import matplotlib.pyplot as plt
import numpy as np

# Function to check if a number is prime
def is_prime(n):
    if n <= 1:
        return False
    for i in range(2, int(n**0.5) + 1):
        if n % i == 0:
            return False
    return True

# Generate a list of prime numbers
prime_numbers = [p for p in range(2, 100) if is_prime(p)]

# Convert prime numbers to radians for theta
theta = [np.deg2rad(p) for p in prime_numbers]  # Though p is not in degrees, this line is for demonstration

# Using prime numbers for r
r = prime_numbers

# Create polar plot
plt.figure(figsize=(8, 8))
ax = plt.subplot(111, polar=True)
ax.scatter(theta, r)

# Set the display of the plot
ax.set_title("Prime Numbers in Polar Coordinates (r, theta) = (p, p)")

plt.show()
